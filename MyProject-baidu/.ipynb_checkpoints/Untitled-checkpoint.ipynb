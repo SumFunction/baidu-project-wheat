{
 "cells": [
  {
   "cell_type": "code",
   "execution_count": 1,
   "id": "eedf5949-03d5-4d2f-a17b-db17efe18c66",
   "metadata": {},
   "outputs": [
    {
     "ename": "ModuleNotFoundError",
     "evalue": "No module named 'cv2'",
     "output_type": "error",
     "traceback": [
      "\u001b[1;31m---------------------------------------------------------------------------\u001b[0m",
      "\u001b[1;31mModuleNotFoundError\u001b[0m                       Traceback (most recent call last)",
      "\u001b[1;32mD:\\TEMPOR~1/ipykernel_11600/2630502143.py\u001b[0m in \u001b[0;36m<module>\u001b[1;34m\u001b[0m\n\u001b[0;32m      1\u001b[0m \u001b[1;32mimport\u001b[0m \u001b[0mos\u001b[0m\u001b[1;33m\u001b[0m\u001b[1;33m\u001b[0m\u001b[0m\n\u001b[1;32m----> 2\u001b[1;33m \u001b[1;32mimport\u001b[0m \u001b[0mcv2\u001b[0m\u001b[1;33m\u001b[0m\u001b[1;33m\u001b[0m\u001b[0m\n\u001b[0m\u001b[0;32m      3\u001b[0m \u001b[1;32mimport\u001b[0m \u001b[0mnumpy\u001b[0m \u001b[1;32mas\u001b[0m \u001b[0mnp\u001b[0m\u001b[1;33m\u001b[0m\u001b[1;33m\u001b[0m\u001b[0m\n\u001b[0;32m      4\u001b[0m \u001b[1;32mfrom\u001b[0m \u001b[0mtorch\u001b[0m\u001b[1;33m.\u001b[0m\u001b[0mutils\u001b[0m\u001b[1;33m.\u001b[0m\u001b[0mdata\u001b[0m \u001b[1;32mimport\u001b[0m \u001b[0mDataset\u001b[0m\u001b[1;33m\u001b[0m\u001b[1;33m\u001b[0m\u001b[0m\n\u001b[0;32m      5\u001b[0m \u001b[1;32mfrom\u001b[0m \u001b[0mPIL\u001b[0m \u001b[1;32mimport\u001b[0m \u001b[0mImage\u001b[0m\u001b[1;33m\u001b[0m\u001b[1;33m\u001b[0m\u001b[0m\n",
      "\u001b[1;31mModuleNotFoundError\u001b[0m: No module named 'cv2'"
     ]
    }
   ],
   "source": [
    "import os\n",
    "import cv2\n",
    "import numpy as np\n",
    "from torch.utils.data import Dataset\n",
    "from PIL import Image\n",
    "import torchvision\n",
    "import time\n",
    "from time import time \n",
    "from tqdm import tqdm\n",
    "\n",
    "def compute_mean_and_std(dataset):\n",
    "    # 输入PyTorch的dataset，输出均值和标准差\n",
    "    mean_r = 0\n",
    "    mean_g = 0\n",
    "    mean_b = 0\n",
    "    print(\"计算均值>>>\")\n",
    "    for img_path, _ in tqdm(dataset,ncols=80):\n",
    "        img=Image.open(img_path)\n",
    "        img = np.asarray(img) # change PIL Image to numpy array\n",
    "        mean_b += np.mean(img[:, :, 0])\n",
    "        mean_g += np.mean(img[:, :, 1])\n",
    "        mean_r += np.mean(img[:, :, 2])\n",
    "\n",
    "    mean_b /= len(dataset)\n",
    "    mean_g /= len(dataset)\n",
    "    mean_r /= len(dataset)\n",
    "\n",
    "    diff_r = 0\n",
    "    diff_g = 0\n",
    "    diff_b = 0\n",
    "\n",
    "    N = 0\n",
    "    print(\"计算方差>>>\")\n",
    "    for img_path, _ in tqdm(dataset,ncols=80):\n",
    "      img=Image.open(img_path)\n",
    "      img = np.asarray(img)\n",
    "      diff_b += np.sum(np.power(img[:, :, 0] - mean_b, 2))\n",
    "      diff_g += np.sum(np.power(img[:, :, 1] - mean_g, 2))\n",
    "      diff_r += np.sum(np.power(img[:, :, 2] - mean_r, 2))\n",
    "\n",
    "      N += np.prod(img[:, :, 0].shape)\n",
    "\n",
    "    std_b = np.sqrt(diff_b / N)\n",
    "    std_g = np.sqrt(diff_g / N)\n",
    "    std_r = np.sqrt(diff_r / N)\n",
    "\n",
    "    mean = (mean_b.item() / 255.0, mean_g.item() / 255.0, mean_r.item() / 255.0)\n",
    "    std = (std_b.item() / 255.0, std_g.item() / 255.0, std_r.item() / 255.0)\n",
    "    return mean, std\n",
    "path = r\"D:\\麦穗病害数据集\\WheatDiseaseDataset\"\n",
    "train_path=path+\"\\train\"\n",
    "val_path=path+'\\valid'\n",
    "train_data = torchvision.datasets.ImageFolder(train_path)\n",
    "val_data = torchvision.datasets.ImageFolder(val_path)\n",
    "\n",
    "\n",
    "time_start =time()\n",
    "val_mean,val_std=compute_mean_and_std(val_data.imgs)\n",
    "time_end=time()\n",
    "print(\"验证集计算消耗时间：\", round(time_end - time_start, 4), \"s\")\n",
    "#test_mean,test_std=compute_mean_and_std(test_data.imgs)\n",
    "#print(\"训练集的平均值：{}，方差：{}\".format(train_mean,train_std))\n",
    "print(\"验证集的平均值：{}\".format(val_mean))\n",
    "print(\"验证集的方差：{}\".format(val_mean))\n",
    "#print(\"测试集的平均值：{}，方差：{}\".format(test_mean,test_std))"
   ]
  },
  {
   "cell_type": "code",
   "execution_count": 23,
   "id": "d996830c-c20c-48c2-9940-f59fc8a25eff",
   "metadata": {},
   "outputs": [
    {
     "data": {
      "text/plain": [
       "Tensor(shape=[1], dtype=float32, place=CUDAPlace(0), stop_gradient=True,\n",
       "       [0.])"
      ]
     },
     "execution_count": 23,
     "metadata": {},
     "output_type": "execute_result"
    }
   ],
   "source": [
    "import numpy as np\n",
    "c = np.array(Acc)\n",
    "print(c[0])"
   ]
  }
 ],
 "metadata": {
  "kernelspec": {
   "display_name": "python38",
   "language": "python",
   "name": "python38"
  },
  "language_info": {
   "codemirror_mode": {
    "name": "ipython",
    "version": 3
   },
   "file_extension": ".py",
   "mimetype": "text/x-python",
   "name": "python",
   "nbconvert_exporter": "python",
   "pygments_lexer": "ipython3",
   "version": "3.8.12"
  }
 },
 "nbformat": 4,
 "nbformat_minor": 5
}
